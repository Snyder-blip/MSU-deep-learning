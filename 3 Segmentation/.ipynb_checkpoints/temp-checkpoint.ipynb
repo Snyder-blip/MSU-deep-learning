{
 "cells": [
  {
   "cell_type": "code",
   "execution_count": 7,
   "id": "cbd7d35a-4e3d-427c-b916-a166af5d73e0",
   "metadata": {},
   "outputs": [
    {
     "name": "stdout",
     "output_type": "stream",
     "text": [
      "cuda\n",
      "Результат операции на устройстве CUDA:\n",
      "tensor([2, 4, 6], device='cuda:0')\n"
     ]
    }
   ],
   "source": [
    "import torch\n",
    "\n",
    "# Проверка доступности устройства CUDA (GPU)\n",
    "device = torch.device(\"cuda\" if torch.cuda.is_available() else \"cpu\")\n",
    "print(device)\n",
    "\n",
    "# Создание тензора на устройстве CUDA\n",
    "tensor_on_cuda = torch.tensor([1, 2, 3]).to(device)\n",
    "\n",
    "# Выполнение операций на устройстве CUDA\n",
    "result = tensor_on_cuda * 2\n",
    "\n",
    "print(\"Результат операции на устройстве CUDA:\")\n",
    "print(result)\n"
   ]
  }
 ],
 "metadata": {
  "kernelspec": {
   "display_name": "Python 3 (ipykernel)",
   "language": "python",
   "name": "python3"
  },
  "language_info": {
   "codemirror_mode": {
    "name": "ipython",
    "version": 3
   },
   "file_extension": ".py",
   "mimetype": "text/x-python",
   "name": "python",
   "nbconvert_exporter": "python",
   "pygments_lexer": "ipython3",
   "version": "3.10.12"
  }
 },
 "nbformat": 4,
 "nbformat_minor": 5
}
