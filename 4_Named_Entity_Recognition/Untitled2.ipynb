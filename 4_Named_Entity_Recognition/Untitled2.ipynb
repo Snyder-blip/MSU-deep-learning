{
 "cells": [
  {
   "cell_type": "code",
   "execution_count": 1,
   "id": "f6856a1d-40c6-4cf5-a56a-28228f9022f8",
   "metadata": {},
   "outputs": [
    {
     "name": "stdout",
     "output_type": "stream",
     "text": [
      "['Привет!', 'Это', 'строка', 'с', 'знаками', 'пунктуации!']\n"
     ]
    }
   ],
   "source": [
    "import string\n",
    "\n",
    "# Ваш исходный список строк\n",
    "my_list = ['Привет!', 'Это', 'строка', 'с', 'знаками', 'пунктуации!', '!!!', '...']\n",
    "\n",
    "# Функция, которая проверяет, состоит ли строка только из знаков пунктуации\n",
    "def is_punctuation(s):\n",
    "    return all(char in string.punctuation for char in s)\n",
    "\n",
    "# Фильтрация списка с использованием list comprehension\n",
    "filtered_list = [s for s in my_list if not is_punctuation(s)]\n",
    "\n",
    "# Вывод результата\n",
    "print(filtered_list)\n"
   ]
  }
 ],
 "metadata": {
  "kernelspec": {
   "display_name": "Python 3 (ipykernel)",
   "language": "python",
   "name": "python3"
  },
  "language_info": {
   "codemirror_mode": {
    "name": "ipython",
    "version": 3
   },
   "file_extension": ".py",
   "mimetype": "text/x-python",
   "name": "python",
   "nbconvert_exporter": "python",
   "pygments_lexer": "ipython3",
   "version": "3.10.12"
  }
 },
 "nbformat": 4,
 "nbformat_minor": 5
}
